{
 "cells": [
  {
   "cell_type": "markdown",
   "id": "a3b05603",
   "metadata": {},
   "source": [
    "## 머신러닝 개념\n",
    "- 머신러닝이란 애플리케이션을 수정하지 않고도 **데이터를 기반으로 패턴을 학습하고 결과를 추론**하는 알고리즘 기법을 통칭한다.\n",
    "- 머신러닝 알고리즘은 데이터를 기반으로 통계적인 신뢰도를 강화하고 예측 오류를 최소화하기 위해 다양한 수학적 기법을 적용하여 데이터 내의 패턴을 스스로 인지하고 신뢰도 있는 예측 결과를 도출한다."
   ]
  },
  {
   "cell_type": "markdown",
   "id": "63268b9f",
   "metadata": {},
   "source": [
    "## 머신러닝 분류\n",
    "- 머신러닝은 지도학습(Supervised Learning)과 비지도학습(Un-supervised Learning), 강화학습(Reinforcement Learning)으로 나뉜다. 지도 학습은 결정값이 주어진 데이터를 학습하고, 비지도 학습은 결정값이 주어지지 않은 데이터를 학습한다.\n",
    "\n",
    "\n",
    "    - 지도 학습\n",
    "        - 분류\n",
    "        - 회귀\n",
    "        - 시각/음성 감지/인지\n",
    "        \n",
    "    - 비지도 학습\n",
    "        - 군집화(클러스터링)\n",
    "        - 차원 축소"
   ]
  },
  {
   "cell_type": "code",
   "execution_count": null,
   "id": "f74b595a",
   "metadata": {},
   "outputs": [],
   "source": []
  }
 ],
 "metadata": {
  "kernelspec": {
   "display_name": "Python 3",
   "language": "python",
   "name": "python3"
  },
  "language_info": {
   "codemirror_mode": {
    "name": "ipython",
    "version": 3
   },
   "file_extension": ".py",
   "mimetype": "text/x-python",
   "name": "python",
   "nbconvert_exporter": "python",
   "pygments_lexer": "ipython3",
   "version": "3.8.8"
  }
 },
 "nbformat": 4,
 "nbformat_minor": 5
}
