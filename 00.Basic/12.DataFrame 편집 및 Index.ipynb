{
 "cells": [
  {
   "cell_type": "markdown",
   "id": "d415c133",
   "metadata": {},
   "source": [
    "# ◎ DataFrame과 리스트, 딕셔너리, 넘파이 ndarray 상호변환"
   ]
  },
  {
   "cell_type": "markdown",
   "id": "fe19d6b8",
   "metadata": {},
   "source": [
    "#### ▶ 리스트(list)를 DataFrame으로 변환\n",
    "- df_list1 = pd.DataFrame(list, columns=col_name1)와 같이 DataFrame 생성 인자로 리스트 객체와 매핑되는 컬럼명들을 입력\n",
    "\n",
    "#### ▶ ndarray를 DataFrame으로 변환\n",
    "- df_array2 = pd.DataFrame(array2, columns=col_name2)와 같이 DataFrame 생성 인자로 ndarray와 매핑되는 컬럼명들을 입력\n",
    "\n",
    "#### ▶ 딕셔너리(dict)을 DataFrame으로 변환\n",
    "- dict = {'col1':[1,11], 'col2':[2,22], 'col3':[3,33]}\n",
    "- df_dict = pd.DataFrame(dict)와 같이 컬럼명을 딕셔너리의 키(key)로, 값(value)을 리스트 형식으로 입력\n",
    "\n",
    "#### ▶ DataFrame을 ndarray로 변환\n",
    "- DataFrame 객체의 values 속성을 이용하여 ndarray 변환\n",
    "\n",
    "#### ▶ DataFrame을 리스트로 변환\n",
    "- DataFrame 객체의 values 속성을 이용하여 먼저 ndarray로 변환 후 tolist()를 이용하여 list로 변환\n",
    "\n",
    "#### ▶ DataFrame을 딕셔너리로 변환\n",
    "- DataFrame 객체의 to_dict()를 이용하여 변환"
   ]
  },
  {
   "cell_type": "markdown",
   "id": "e0105441",
   "metadata": {},
   "source": [
    "#### DataFrame과 리스트, 딕셔너리, 넘파이 ndarray 상호 변환\n",
    "\n",
    "**리스트, ndarray에서 DataFrame변환**"
   ]
  },
  {
   "cell_type": "code",
   "execution_count": 3,
   "id": "4afeb1ee",
   "metadata": {},
   "outputs": [
    {
     "name": "stdout",
     "output_type": "stream",
     "text": [
      "array1 shape: (3,)\n",
      "1차원 리스트로 만든 DataFrame:\n",
      "    col1\n",
      "0     1\n",
      "1     2\n",
      "2     3\n",
      "\n",
      "1차원 ndarray로 만든 DataFrame:\n",
      "    col1\n",
      "0     1\n",
      "1     2\n",
      "2     3\n"
     ]
    }
   ],
   "source": [
    "import numpy as np\n",
    "import pandas as pd\n",
    "\n",
    "col_name1=['col1']\n",
    "list1 = [1, 2, 3]\n",
    "array1 = np.array(list1)\n",
    "\n",
    "print('array1 shape:', array1.shape )\n",
    "df_list1 = pd.DataFrame(list1, columns=col_name1) # 리스트 → 데이터프레임 변환\n",
    "print('1차원 리스트로 만든 DataFrame:\\n', df_list1)\n",
    "print()\n",
    "df_array1 = pd.DataFrame(array1, columns=col_name1) # ndarray → 데이터프레임 변환\n",
    "print('1차원 ndarray로 만든 DataFrame:\\n', df_array1)"
   ]
  },
  {
   "cell_type": "code",
   "execution_count": 6,
   "id": "bf50c513",
   "metadata": {},
   "outputs": [
    {
     "name": "stdout",
     "output_type": "stream",
     "text": [
      "array2 shape: (2, 3)\n",
      "2차원 리스트로 만든 DataFrame:\n",
      "    col1  col2  col3\n",
      "0     1     2     3\n",
      "1    11    12    13\n",
      "\n",
      "2차원 ndarray로 만든 DataFrame:\n",
      "    col1  col2  col3\n",
      "0     1     2     3\n",
      "1    11    12    13\n"
     ]
    }
   ],
   "source": [
    "# list, array의 열이 3개 → 3개의 컬럼명 필요\n",
    "col_name2=['col1', 'col2', 'col3']\n",
    "\n",
    "# 2행 x 3열 형태의 리스트와 ndarray → 데이터프레임 변환\n",
    "list2 = [[1, 2, 3],\n",
    "         [11, 12, 13]]\n",
    "array2 = np.array(list2)\n",
    "print('array2 shape:', array2.shape )\n",
    "df_list2 = pd.DataFrame(list2, columns=col_name2)\n",
    "print('2차원 리스트로 만든 DataFrame:\\n', df_list2)\n",
    "print()\n",
    "df_array1 = pd.DataFrame(array2, columns=col_name2)\n",
    "print('2차원 ndarray로 만든 DataFrame:\\n', df_array1)"
   ]
  },
  {
   "cell_type": "markdown",
   "id": "8b9b158d",
   "metadata": {},
   "source": [
    "**딕셔너리(dict)에서 DataFrame변환**"
   ]
  },
  {
   "cell_type": "code",
   "execution_count": null,
   "id": "de92649c",
   "metadata": {},
   "outputs": [],
   "source": [
    "# Key는 컬럼명으로 매핑, Value는 리스트 형(또는 ndarray)\n",
    "dict = {'col1':[1, 11], 'col2':[2, 22], 'col3':[3, 33]}\n",
    "df_dict = pd.DataFrame(dict)\n",
    "print('딕셔너리로 만든 DataFrame:\\n', df_dict)"
   ]
  },
  {
   "cell_type": "markdown",
   "id": "cca8c8b3",
   "metadata": {},
   "source": [
    "**DataFrame을 ndarray로 변환**"
   ]
  },
  {
   "cell_type": "code",
   "execution_count": null,
   "id": "c3fb2ad7",
   "metadata": {},
   "outputs": [],
   "source": [
    "# DataFrame을 ndarray로 변환\n",
    "array3 = df_dict.values\n",
    "print('df_dict.values 타입:', type(array3), 'df_dict.values shape:', array3.shape)\n",
    "print(array3)"
   ]
  },
  {
   "cell_type": "markdown",
   "id": "7733f6c7",
   "metadata": {},
   "source": [
    "**DataFrame을 리스트와 딕셔너리로 변환**"
   ]
  },
  {
   "cell_type": "code",
   "execution_count": null,
   "id": "99682204",
   "metadata": {},
   "outputs": [],
   "source": [
    "# DataFrame을 리스트로 변환\n",
    "list3 = df_dict.values.tolist()\n",
    "print('df_dict.values.tolist() 타입:', type(list3))\n",
    "print(list3)\n",
    "\n",
    "# DataFrame을 딕셔너리로 변환\n",
    "dict3 = df_dict.to_dict('list')\n",
    "print('\\n df_dict.to_dict() 타입:', type(dict3))\n",
    "print(dict3)"
   ]
  },
  {
   "cell_type": "markdown",
   "id": "34702329",
   "metadata": {},
   "source": [
    "# ◎ DataFrame 데이터 삭제"
   ]
  },
  {
   "cell_type": "markdown",
   "id": "c5c830b0",
   "metadata": {},
   "source": [
    "#### ▶ DataFrame.drop(labels=None, axis=0, index=None, columns=None, level=None, inplace=False, errors='raise')\n",
    "- axis : DataFrame의 로우를 삭제할 때는 axis=0, 컬럼을 삭제할 때는 axis=1으로 설정\n",
    "- 원본 DataFrame은 유지하고 드롭된 DataFrame을 새롭게 객체 변수로 받고 싶다면 inplace=False로 설정(디폴트값)\n",
    "    - ex) titanic_drop_df = titanic_df.drop('Age_0', axis=1, inpalce=False)\n",
    "- 원본 DataFrame에 드롭된 결과를 적용할 경우에는 inplace=True를 적용\n",
    "    - ex) titanic_df.drop('Age_0', axis=1, inplace=True)\n",
    "- 원본 DataFrame에서 드롭된 DataFrame을 다시 원본 DataFrame 객체 변수로 할당하면 원본 DataFrame에서 드롭된 결과를 적용할 경우와 같음(단, 기존 원본 DataFrame 객체 변수는 메모리에서 추후 제거됨)\n",
    "    - ex) titanic_df = titanic_df.drop('Age_0', axis=1, inpalce=False)"
   ]
  },
  {
   "cell_type": "markdown",
   "id": "98f3a4ac",
   "metadata": {},
   "source": [
    "# ◎ Index"
   ]
  },
  {
   "cell_type": "markdown",
   "id": "f1de10d0",
   "metadata": {},
   "source": [
    "- 판다스의 Index 객체는 RDBMS의 PK(Primary Key)와 유사하게 DataFrame, Series의 레코드를 고유하게 식별하는 객체이다.\n",
    "\n",
    "\n",
    "- DataFrame, Series에서 Index 객체만 추출하려면 DataFrame.index 또는 Series.index 를 입력하면 된다.\n",
    "\n",
    "\n",
    "- Series 객체는 Index 객체를 포함하지만 Series 객체에 연산 함수를 적용할 때 Index는 연산에서 제외된다.\n",
    "    - Index는 오직 식별용으로만 사용된다.\n",
    "    \n",
    "    \n",
    "- DataFrame 및 Series에 reset_index() 메서드를 수행하면 새로운 인덱스를 연속 숫자형으로 할당하며, 기존 인덱스는 'index'라는 새로운 컬럼명으로 추가된다. "
   ]
  },
  {
   "cell_type": "code",
   "execution_count": null,
   "id": "627cc409",
   "metadata": {},
   "outputs": [],
   "source": []
  }
 ],
 "metadata": {
  "kernelspec": {
   "display_name": "Python 3",
   "language": "python",
   "name": "python3"
  },
  "language_info": {
   "codemirror_mode": {
    "name": "ipython",
    "version": 3
   },
   "file_extension": ".py",
   "mimetype": "text/x-python",
   "name": "python",
   "nbconvert_exporter": "python",
   "pygments_lexer": "ipython3",
   "version": "3.8.8"
  }
 },
 "nbformat": 4,
 "nbformat_minor": 5
}
