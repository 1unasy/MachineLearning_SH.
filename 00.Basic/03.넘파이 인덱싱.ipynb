{
 "cells": [
  {
   "cell_type": "markdown",
   "id": "a2056efb",
   "metadata": {},
   "source": [
    "# ◎ ndarray의 데이터 세트 선택하기 - 인덱싱(Indexing)"
   ]
  },
  {
   "cell_type": "markdown",
   "id": "2b0b58bb",
   "metadata": {},
   "source": [
    "#### ▶ 인덱싱 유형\n",
    "- 특정 위치의 단일값 추출\n",
    "    - 원하는 위치의 인덱스 값을 지정하면 해당 위치의 데이터 반환\n",
    "    \n",
    "    \n",
    "- 슬라이싱(Slicing)\n",
    "    - 연속된 인덱스상의 ndarray를 추출하는 방식\n",
    "    - `:` 기호 사이에 시작 인덱스와 종료 인덱스를 표시\n",
    "        - 시작 인덱스 ~ 종료 인덱스 - 1 위치에 있는 ndarray 반환\n",
    "        - ex) `1:5` : 1 ~ 4까지 ndarray 반환\n",
    "        \n",
    "        \n",
    "- 팬시 인덱싱(Fancy Indexing)\n",
    "    - 일정한 인덱싱 집합을 리스트 or ndarray 형태로 지정해 해당 위치에 있는 ndarray 반환\n",
    "    \n",
    "    \n",
    "- **불린 인덱싱(Boolean Indexing)**\n",
    "    - 특정 조건에 해당하는지 여부인 True/False 값 인덱싱 집합을 기반으로 True에 해당하는 인덱스 위치에 있는 ndarray 반환"
   ]
  },
  {
   "cell_type": "code",
   "execution_count": 2,
   "id": "8dbe0a38",
   "metadata": {},
   "outputs": [],
   "source": [
    "import numpy as np"
   ]
  },
  {
   "cell_type": "markdown",
   "id": "26724fdc",
   "metadata": {},
   "source": [
    "- 양수 인덱스\n",
    "    - 0부터 정방향으로 \n",
    "- 음수 인덱스\n",
    "    - -1부터 역방향으로 "
   ]
  },
  {
   "cell_type": "code",
   "execution_count": 7,
   "id": "fcbff1d0",
   "metadata": {},
   "outputs": [
    {
     "data": {
      "text/plain": [
       "(3, 8, 9)"
      ]
     },
     "execution_count": 7,
     "metadata": {},
     "output_type": "execute_result"
    }
   ],
   "source": [
    "# 1차원\n",
    "array = np.arange(10) # array([0, 1, 2, 3, 4, 5, 6, 7, 8, 9])\n",
    "array[3], array[-2], array[-1] # ndarray[인덱스]"
   ]
  },
  {
   "cell_type": "code",
   "execution_count": 11,
   "id": "f155c360",
   "metadata": {},
   "outputs": [
    {
     "data": {
      "text/plain": [
       "(0, 9)"
      ]
     },
     "execution_count": 11,
     "metadata": {},
     "output_type": "execute_result"
    }
   ],
   "source": [
    "# 2차원\n",
    "array_2 = array.reshape(2, -1) # array([[0, 1, 2, 3, 4], [5, 6, 7, 8, 9]])\n",
    "array_2[0,0], array_2[1,4] # ndarray[행 인덱스, 열 인덱스]"
   ]
  },
  {
   "cell_type": "markdown",
   "id": "0962683c",
   "metadata": {},
   "source": [
    "슬라이싱"
   ]
  },
  {
   "cell_type": "code",
   "execution_count": 16,
   "id": "1dd24b39",
   "metadata": {},
   "outputs": [
    {
     "name": "stdout",
     "output_type": "stream",
     "text": [
      "[0 1 2]\n",
      "\n",
      "[[0 1 2]\n",
      " [5 6 7]]\n"
     ]
    }
   ],
   "source": [
    "# 1차원\n",
    "print(array[:3]) # 0 ~ 2 인덱스 값\n",
    "print() # 한 줄 띄어쓰기\n",
    "#2차원\n",
    "print(array_2[:,:3]) # 행 전체 + 0 ~ 2 열 인덱스 값"
   ]
  },
  {
   "cell_type": "markdown",
   "id": "b8ddf7da",
   "metadata": {},
   "source": [
    "팬시 인덱싱"
   ]
  },
  {
   "cell_type": "code",
   "execution_count": 20,
   "id": "ba0538c1",
   "metadata": {},
   "outputs": [
    {
     "name": "stdout",
     "output_type": "stream",
     "text": [
      "[0 3 9]\n",
      "\n",
      "[2 7]\n"
     ]
    }
   ],
   "source": [
    "# 1차원\n",
    "print(array[[0,3,-1]]) # 0, 3, -1 인덱스 값\n",
    "print()\n",
    "#2차원\n",
    "print(array_2[[0,1], 2]) # 행 0, 1 인덱스 + 열 2 인덱스 값"
   ]
  },
  {
   "cell_type": "markdown",
   "id": "043fb79e",
   "metadata": {},
   "source": [
    "불린 인덱싱"
   ]
  },
  {
   "cell_type": "code",
   "execution_count": 21,
   "id": "ccfed215",
   "metadata": {},
   "outputs": [
    {
     "data": {
      "text/plain": [
       "array([6, 7, 8, 9])"
      ]
     },
     "execution_count": 21,
     "metadata": {},
     "output_type": "execute_result"
    }
   ],
   "source": [
    "array[array > 5] # array 중 5 초과 데이터 추출"
   ]
  },
  {
   "cell_type": "markdown",
   "id": "2bd0cb5a",
   "metadata": {},
   "source": [
    "#### 특정 위치의  단일값 추출"
   ]
  },
  {
   "cell_type": "code",
   "execution_count": 22,
   "id": "70d3bd6e",
   "metadata": {},
   "outputs": [
    {
     "name": "stdout",
     "output_type": "stream",
     "text": [
      "array1: [1 2 3 4 5 6 7 8 9]\n",
      "value: 3\n",
      "<class 'numpy.int32'>\n"
     ]
    }
   ],
   "source": [
    "# 1에서 부터 9 까지의 1차원 ndarray 생성 \n",
    "array1 = np.arange(start=1, stop=10)\n",
    "print('array1:',array1)\n",
    "\n",
    "# index는 0 부터 시작하므로 array1[2]는 3번째 index 위치의 데이터 값\n",
    "value = array1[2]\n",
    "print('value:',value)\n",
    "print(type(value))"
   ]
  },
  {
   "cell_type": "code",
   "execution_count": 23,
   "id": "8bdd9980",
   "metadata": {},
   "outputs": [
    {
     "name": "stdout",
     "output_type": "stream",
     "text": [
      "맨 뒤의 값: 9 , 맨 뒤에서 두번째 값: 8\n"
     ]
    }
   ],
   "source": [
    "print('맨 뒤의 값:',array1[-1], ', 맨 뒤에서 두번째 값:',array1[-2])"
   ]
  },
  {
   "cell_type": "code",
   "execution_count": 24,
   "id": "2a648837",
   "metadata": {},
   "outputs": [
    {
     "name": "stdout",
     "output_type": "stream",
     "text": [
      "array1: [9 2 3 4 5 6 7 8 0]\n"
     ]
    }
   ],
   "source": [
    "# 0 인덱스 값 9로, 8 인덱스 값 0으로 대체\n",
    "array1[0] = 9\n",
    "array1[8] = 0\n",
    "print('array1:',array1)"
   ]
  },
  {
   "cell_type": "code",
   "execution_count": 26,
   "id": "e1bcd1ba",
   "metadata": {},
   "outputs": [
    {
     "name": "stdout",
     "output_type": "stream",
     "text": [
      "[[1 2 3]\n",
      " [4 5 6]\n",
      " [7 8 9]]\n",
      "\n",
      "(row=0,col=0) index 가리키는 값: 1\n",
      "(row=0,col=1) index 가리키는 값: 2\n",
      "(row=1,col=0) index 가리키는 값: 4\n",
      "(row=2,col=2) index 가리키는 값: 9\n"
     ]
    }
   ],
   "source": [
    "array1d = np.arange(start=1, stop=10)\n",
    "array2d = array1d.reshape(3,3) # 2차원\n",
    "print(array2d)\n",
    "print()\n",
    "print('(row=0,col=0) index 가리키는 값:', array2d[0,0] )\n",
    "print('(row=0,col=1) index 가리키는 값:', array2d[0,1] )\n",
    "print('(row=1,col=0) index 가리키는 값:', array2d[1,0] )\n",
    "print('(row=2,col=2) index 가리키는 값:', array2d[2,2] )"
   ]
  },
  {
   "cell_type": "markdown",
   "id": "513ca9d4",
   "metadata": {},
   "source": [
    "#### 슬라이싱"
   ]
  },
  {
   "cell_type": "code",
   "execution_count": 27,
   "id": "360f6392",
   "metadata": {},
   "outputs": [
    {
     "name": "stdout",
     "output_type": "stream",
     "text": [
      "[1 2 3 4 5 6 7 8 9]\n",
      "[1 2 3]\n",
      "<class 'numpy.ndarray'>\n"
     ]
    }
   ],
   "source": [
    "array1 = np.arange(start=1, stop=10)\n",
    "print(array1)\n",
    "array3 = array1[0:3] # 0 ~ 2 인데스 값 \n",
    "print(array3)\n",
    "print(type(array3))"
   ]
  },
  {
   "cell_type": "code",
   "execution_count": 28,
   "id": "dcd1a073",
   "metadata": {},
   "outputs": [
    {
     "name": "stdout",
     "output_type": "stream",
     "text": [
      "[1 2 3]\n",
      "[4 5 6 7 8 9]\n",
      "[1 2 3 4 5 6 7 8 9]\n"
     ]
    }
   ],
   "source": [
    "array1 = np.arange(start=1, stop=10)\n",
    "array4 = array1[:3] # 0 ~ 2\n",
    "print(array4)\n",
    "\n",
    "array5 = array1[3:] # 3 ~ 끝까지\n",
    "print(array5)\n",
    "\n",
    "array6 = array1[:] # 전체\n",
    "print(array6)"
   ]
  },
  {
   "cell_type": "code",
   "execution_count": 32,
   "id": "b6cbd508",
   "metadata": {},
   "outputs": [
    {
     "name": "stdout",
     "output_type": "stream",
     "text": [
      "array2d:\n",
      " [[1 2 3]\n",
      " [4 5 6]\n",
      " [7 8 9]]\n",
      "\n",
      "array2d[0:2, 0:2] \n",
      " [[1 2]\n",
      " [4 5]]\n",
      "\n",
      "array2d[1:3, 0:3] \n",
      " [[4 5 6]\n",
      " [7 8 9]]\n",
      "\n",
      "array2d[1:3, :] \n",
      " [[4 5 6]\n",
      " [7 8 9]]\n",
      "\n",
      "array2d[:, :] \n",
      " [[1 2 3]\n",
      " [4 5 6]\n",
      " [7 8 9]]\n",
      "\n",
      "array2d[:2, 1:] \n",
      " [[2 3]\n",
      " [5 6]]\n",
      "\n",
      "array2d[:2, 0] \n",
      " [1 4]\n"
     ]
    }
   ],
   "source": [
    "array1d = np.arange(start=1, stop=10)\n",
    "array2d = array1d.reshape(3,3)\n",
    "print('array2d:\\n',array2d)\n",
    "print()\n",
    "print('array2d[0:2, 0:2] \\n', array2d[0:2, 0:2]) # 행, 열 모두 0 ~ 1\n",
    "print()\n",
    "print('array2d[1:3, 0:3] \\n', array2d[1:3, 0:3]) # 행 1 ~ 2 / 열 전체\n",
    "print()\n",
    "print('array2d[1:3, :] \\n', array2d[1:3, :]) # 행 1 ~ 2 / 열 전체\n",
    "print()\n",
    "print('array2d[:, :] \\n', array2d[:, :]) # 전체\n",
    "print()\n",
    "print('array2d[:2, 1:] \\n', array2d[:2, 1:]) # 행 0 ~ 1 / 열 1 ~ 끝까지\n",
    "print()\n",
    "print('array2d[:2, 0] \\n', array2d[:2, 0]) # 행 0 ~ 1 / 열 0"
   ]
  },
  {
   "cell_type": "markdown",
   "id": "2229c6e5",
   "metadata": {},
   "source": [
    "#### 팬시 인덱싱\n",
    "- 불연속적인 값 인덱싱 가능"
   ]
  },
  {
   "cell_type": "code",
   "execution_count": 34,
   "id": "f9dae1e8",
   "metadata": {},
   "outputs": [
    {
     "name": "stdout",
     "output_type": "stream",
     "text": [
      "[[1 2 3]\n",
      " [4 5 6]\n",
      " [7 8 9]]\n",
      "\n",
      "array2d[[0,1], 2] =>  [3, 6]\n",
      "array2d[[0,2], 0:2] =>  [[1, 2], [7, 8]]\n",
      "array2d[[0,1]] =>  [[1, 2, 3], [4, 5, 6]]\n"
     ]
    }
   ],
   "source": [
    "array1d = np.arange(start=1, stop=10)\n",
    "array2d = array1d.reshape(3,3)\n",
    "print(array2d)\n",
    "print()\n",
    "array3 = array2d[[0,1], 2] # 행 0, 1 / 열 2\n",
    "print('array2d[[0,1], 2] => ',array3.tolist())\n",
    "\n",
    "array4 = array2d[[0,2], 0:2] # 행 0, 2 / 열 0 ~ 1\n",
    "print('array2d[[0,2], 0:2] => ',array4.tolist())\n",
    "\n",
    "array5 = array2d[[0,1]] # 행 0, 1 \n",
    "print('array2d[[0,1]] => ',array5.tolist())"
   ]
  },
  {
   "cell_type": "markdown",
   "id": "e3fed4aa",
   "metadata": {},
   "source": [
    "#### 불린 인덱싱"
   ]
  },
  {
   "cell_type": "code",
   "execution_count": 35,
   "id": "fb25e624",
   "metadata": {},
   "outputs": [
    {
     "name": "stdout",
     "output_type": "stream",
     "text": [
      "[1 2 3 4 5 6 7 8 9]\n"
     ]
    }
   ],
   "source": [
    "array1d = np.arange(start=1, stop=10)\n",
    "print(array1d)"
   ]
  },
  {
   "cell_type": "code",
   "execution_count": 37,
   "id": "02030c27",
   "metadata": {},
   "outputs": [
    {
     "name": "stdout",
     "output_type": "stream",
     "text": [
      "var1: [False False False False False  True  True  True  True]\n",
      "<class 'numpy.ndarray'>\n"
     ]
    }
   ],
   "source": [
    "var1 = array1d > 5 # 조건식 반환\n",
    "print(\"var1:\",var1)\n",
    "print(type(var1))"
   ]
  },
  {
   "cell_type": "code",
   "execution_count": 38,
   "id": "3c4e039c",
   "metadata": {},
   "outputs": [
    {
     "name": "stdout",
     "output_type": "stream",
     "text": [
      "[1 2 3 4 5 6 7 8 9]\n",
      "array1d > 5 불린 인덱싱 결과 값 : [6 7 8 9]\n"
     ]
    }
   ],
   "source": [
    "# [ ] 안에 array1d > 5 Boolean indexing을 적용 \n",
    "print(array1d)\n",
    "array3 = array1d[array1d > 5]\n",
    "print('array1d > 5 불린 인덱싱 결과 값 :', array3)"
   ]
  },
  {
   "cell_type": "code",
   "execution_count": 39,
   "id": "d97f9104",
   "metadata": {},
   "outputs": [
    {
     "name": "stdout",
     "output_type": "stream",
     "text": [
      "불린 인덱스로 필터링 결과 : [6 7 8 9]\n"
     ]
    }
   ],
   "source": [
    "# 불린 인덱싱 과정 상세 설명\n",
    "boolean_indexes = np.array([False, False, False, False, False,  True,  True,  True,  True])\n",
    "array3 = array1d[boolean_indexes]\n",
    "print('불린 인덱스로 필터링 결과 :', array3)"
   ]
  },
  {
   "cell_type": "code",
   "execution_count": 40,
   "id": "7e291c30",
   "metadata": {},
   "outputs": [
    {
     "name": "stdout",
     "output_type": "stream",
     "text": [
      "일반 인덱스로 필터링 결과 : [6 7 8 9]\n"
     ]
    }
   ],
   "source": [
    "# 일반 인덱스 설정 필터링\n",
    "indexes = np.array([5,6,7,8])\n",
    "array4 = array1d[ indexes ]\n",
    "print('일반 인덱스로 필터링 결과 :',array4)"
   ]
  },
  {
   "cell_type": "code",
   "execution_count": 41,
   "id": "3378c78e",
   "metadata": {},
   "outputs": [
    {
     "name": "stdout",
     "output_type": "stream",
     "text": [
      "[6 7 8 9]\n"
     ]
    }
   ],
   "source": [
    "# 불린 인덱싱 사용하지 않고 동일한 결과 추출하려고 할 때\n",
    "# 복잡함\n",
    "array1d = np.arange(start=1, stop=10)\n",
    "target = []\n",
    "\n",
    "for i in range(0, 9):\n",
    "    if array1d[i] > 5:\n",
    "        target.append(array1d[i])\n",
    "\n",
    "array_selected = np.array(target)\n",
    "print(array_selected)"
   ]
  },
  {
   "cell_type": "code",
   "execution_count": 42,
   "id": "b8a0aaea",
   "metadata": {},
   "outputs": [
    {
     "name": "stdout",
     "output_type": "stream",
     "text": [
      "[6 7 8 9]\n"
     ]
    }
   ],
   "source": [
    "# 불린 인덱싱 - 많이 활용되므로 필히 기억하기 !!!\n",
    "print(array1d[array1 > 5])"
   ]
  },
  {
   "cell_type": "markdown",
   "id": "f153ddc4",
   "metadata": {},
   "source": [
    "### ▷ 불린 인덱싱 \n",
    "#### Step1. Boolean 조건을 브라켓(`[]`) 내에 입력 : `ndarray['Boolean condition']`\n",
    "#### Step2. 조건문 결과에서 False 값은 무시하고 True 값에 해당하는 index 값만 저장\n",
    "#### Step3. 저장된 index 값으로 데이터 조회 → 추출"
   ]
  }
 ],
 "metadata": {
  "kernelspec": {
   "display_name": "Python 3",
   "language": "python",
   "name": "python3"
  },
  "language_info": {
   "codemirror_mode": {
    "name": "ipython",
    "version": 3
   },
   "file_extension": ".py",
   "mimetype": "text/x-python",
   "name": "python",
   "nbconvert_exporter": "python",
   "pygments_lexer": "ipython3",
   "version": "3.8.8"
  }
 },
 "nbformat": 4,
 "nbformat_minor": 5
}
